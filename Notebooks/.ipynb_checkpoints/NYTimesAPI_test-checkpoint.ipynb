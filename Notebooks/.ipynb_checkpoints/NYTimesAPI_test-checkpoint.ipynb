{
 "cells": [
  {
   "cell_type": "markdown",
   "metadata": {},
   "source": [
    "# New-York Times Api data collection"
   ]
  },
  {
   "cell_type": "code",
   "execution_count": 1,
   "metadata": {},
   "outputs": [],
   "source": [
    "# import\n",
    "\n",
    "import json\n",
    "import requests\n",
    "import csv\n",
    "import pandas as pd\n",
    "import time"
   ]
  },
  {
   "cell_type": "markdown",
   "metadata": {},
   "source": [
    "## # 1st approach"
   ]
  },
  {
   "cell_type": "code",
   "execution_count": 2,
   "metadata": {},
   "outputs": [],
   "source": [
    "# get the financial news article between 2019/01/01 and 2019/01/31\n",
    "\n",
    "#response = requests.get(\"https://api.nytimes.com/svc/search/v2/articlesearch.json?begin_date=20190101&end_date=20190131&q=financial&sort=relevance&page=2&api-key=7LYtg9bua3RqJzfQBTkKBZWdXsjGrerP\")"
   ]
  },
  {
   "cell_type": "code",
   "execution_count": 3,
   "metadata": {},
   "outputs": [],
   "source": [
    "# convert the response to a pureJSON string format\n",
    "\n",
    "#response_json = response.json()\n",
    "#response_json.keys()"
   ]
  },
  {
   "cell_type": "code",
   "execution_count": 4,
   "metadata": {},
   "outputs": [],
   "source": [
    "# Extract articles from the response\n",
    "\n",
    "#articles = response_json['response']['docs']\n",
    "#articles"
   ]
  },
  {
   "cell_type": "code",
   "execution_count": 5,
   "metadata": {},
   "outputs": [],
   "source": [
    "#def get_articles(file):\n",
    " #   \"\"\"Return a list of dict. Each article is a dict.\"\"\"\n",
    "    \n",
    "  #  articles_result = []\n",
    "    \n",
    "   # for i in range(len(file)):\n",
    "    #    article_dict = {}\n",
    "     #   article_dict['abstract'] = file[i]['abstract']\n",
    "      #  article_dict['snippet'] = file[i]['snippet']\n",
    "       # article_dict['lead_paragraph'] = file[i]['lead_paragraph']\n",
    "        #article_dict['keywords'] = file[i]['keywords']\n",
    "# article_dict['source'] = file[i]['source']\n",
    "        #article_dict['date'] = file[i]['pub_date']\n",
    "        #article_dict['url'] = file[i]['web_url']\n",
    "        \n",
    "        #articles_result.append(article_dict)\n",
    "    #return articles_result"
   ]
  },
  {
   "cell_type": "code",
   "execution_count": 6,
   "metadata": {
    "scrolled": true
   },
   "outputs": [],
   "source": [
    "# Convert the list of dict in a dataframe and print the output\n",
    "\n",
    "#df_articles = pd.DataFrame(get_articles(articles))\n",
    "#df_articles"
   ]
  },
  {
   "cell_type": "markdown",
   "metadata": {},
   "source": [
    "The problem is that we only get the news article 10 by 10 as there are 10 articles by page."
   ]
  },
  {
   "cell_type": "code",
   "execution_count": 7,
   "metadata": {},
   "outputs": [],
   "source": [
    "#df_articles.keywords[2]"
   ]
  },
  {
   "cell_type": "markdown",
   "metadata": {},
   "source": [
    "## # 2nd approach (smarter)"
   ]
  },
  {
   "cell_type": "code",
   "execution_count": 8,
   "metadata": {},
   "outputs": [],
   "source": [
    "url = 'https://api.nytimes.com/svc/search/v2/articlesearch.json'"
   ]
  },
  {
   "cell_type": "code",
   "execution_count": 9,
   "metadata": {},
   "outputs": [],
   "source": [
    "api_key = '7LYtg9bua3RqJzfQBTkKBZWdXsjGrerP'"
   ]
  },
  {
   "cell_type": "code",
   "execution_count": 10,
   "metadata": {},
   "outputs": [],
   "source": [
    "def get_response(url:str, api_key:str, query:str, begin_date:str, end_date:str, nb_pages:int)->list:\n",
    "    \"\"\"For a given url, return all the news articles in a list composed of dictionnaries.\n",
    "    Each element corresponds to the results for each page (10 pages = 10 elements) \n",
    "    :url the url of the page to scrap\n",
    "    \"\"\"\n",
    "    \n",
    "    response_list = []\n",
    "    #pages = 10\n",
    "    \n",
    "    for i in range(nb_pages):\n",
    "        response_json = {}\n",
    "        parameters = {\n",
    "            #'q' : 'Financial',\n",
    "            #'begin_date' : '20190101',\n",
    "            #'end_date' : '20190131',\n",
    "            'q' : query,\n",
    "            'api-key' : api_key,\n",
    "            'begin_date' : begin_date,\n",
    "            'end_date' : end_date,\n",
    "            'sort' : 'relevance',\n",
    "            'page' : i\n",
    "        }\n",
    "        response = requests.get(url, params=parameters)\n",
    "        response_json = response.json()\n",
    "        response_list.append(response_json)\n",
    "        time.sleep(6)\n",
    "    \n",
    "    return response_list"
   ]
  },
  {
   "cell_type": "code",
   "execution_count": 11,
   "metadata": {
    "scrolled": true
   },
   "outputs": [
    {
     "data": {
      "text/plain": [
       "10"
      ]
     },
     "execution_count": 11,
     "metadata": {},
     "output_type": "execute_result"
    }
   ],
   "source": [
    "#response = get_response(url)\n",
    "response = get_response(url, api_key, 'Financial', '20100101', '20200101', 10)\n",
    "len(response)      # is equal to the number of pages retrieved"
   ]
  },
  {
   "cell_type": "code",
   "execution_count": 12,
   "metadata": {},
   "outputs": [],
   "source": [
    "def get_articles(file):\n",
    "    \"\"\"Return a list of dict. Each article is a dict.\"\"\"\n",
    "    \n",
    "    articles_result = []\n",
    "    \n",
    "    for i in range(len(file)):\n",
    "        article_dict = {}\n",
    "        article_dict['abstract'] = file[i]['abstract']\n",
    "        article_dict['snippet'] = file[i]['snippet']\n",
    "        article_dict['lead_paragraph'] = file[i]['lead_paragraph']\n",
    "        article_dict['keywords'] = file[i]['keywords']\n",
    "       #article_dict['source'] = file[i]['source']\n",
    "        article_dict['date'] = file[i]['pub_date']\n",
    "        article_dict['url'] = file[i]['web_url']\n",
    "        \n",
    "        articles_result.append(article_dict)\n",
    "    return articles_result"
   ]
  },
  {
   "cell_type": "code",
   "execution_count": 13,
   "metadata": {},
   "outputs": [],
   "source": [
    "def get_dataframe(response:dict):\n",
    "    \"\"\"Return a dataframe. Take the response to the request in json format as parameters. \"\"\"\n",
    "    \n",
    "    df_articles = pd.DataFrame(get_articles(response[0]['response']['docs']))\n",
    "    nb_articles = 9\n",
    "    \n",
    "    for i in range(1,len(response)):\n",
    "        for j in range(10):\n",
    "            nb_articles = nb_articles +1\n",
    "            df_articles.loc[nb_articles] = get_articles(response[i]['response']['docs'])[j]\n",
    "            \n",
    "    return df_articles"
   ]
  },
  {
   "cell_type": "code",
   "execution_count": 14,
   "metadata": {},
   "outputs": [],
   "source": [
    "# transpose the response into a clean dataframe\n",
    "\n",
    "df_articles = get_dataframe(response)"
   ]
  },
  {
   "cell_type": "code",
   "execution_count": 15,
   "metadata": {
    "scrolled": true
   },
   "outputs": [
    {
     "data": {
      "text/html": [
       "<div>\n",
       "<style scoped>\n",
       "    .dataframe tbody tr th:only-of-type {\n",
       "        vertical-align: middle;\n",
       "    }\n",
       "\n",
       "    .dataframe tbody tr th {\n",
       "        vertical-align: top;\n",
       "    }\n",
       "\n",
       "    .dataframe thead th {\n",
       "        text-align: right;\n",
       "    }\n",
       "</style>\n",
       "<table border=\"1\" class=\"dataframe\">\n",
       "  <thead>\n",
       "    <tr style=\"text-align: right;\">\n",
       "      <th></th>\n",
       "      <th>abstract</th>\n",
       "      <th>snippet</th>\n",
       "      <th>lead_paragraph</th>\n",
       "      <th>keywords</th>\n",
       "      <th>date</th>\n",
       "      <th>url</th>\n",
       "    </tr>\n",
       "  </thead>\n",
       "  <tbody>\n",
       "    <tr>\n",
       "      <td>0</td>\n",
       "      <td>Wall Street wants you to stay ignorant. @MrsDo...</td>\n",
       "      <td>Wall Street wants you to stay ignorant. @MrsDo...</td>\n",
       "      <td>Haley Sacks, 28, doesn’t just want women to sa...</td>\n",
       "      <td>[{'name': 'subject', 'value': 'Banking and Fin...</td>\n",
       "      <td>2019-12-24T16:58:34+0000</td>\n",
       "      <td>https://www.nytimes.com/2019/12/24/style/finan...</td>\n",
       "    </tr>\n",
       "    <tr>\n",
       "      <td>1</td>\n",
       "      <td>Congress could do much more to protect America...</td>\n",
       "      <td>Congress could do much more to protect America...</td>\n",
       "      <td>Congress invited predatory for-profit colleges...</td>\n",
       "      <td>[{'name': 'subject', 'value': 'Veterans', 'ran...</td>\n",
       "      <td>2020-01-01T00:18:54+0000</td>\n",
       "      <td>https://www.nytimes.com/2019/12/31/opinion/for...</td>\n",
       "    </tr>\n",
       "    <tr>\n",
       "      <td>2</td>\n",
       "      <td>An agreement between college counselors and th...</td>\n",
       "      <td>An agreement between college counselors and th...</td>\n",
       "      <td>WASHINGTON — The financial aid stranglehold on...</td>\n",
       "      <td>[{'name': 'subject', 'value': 'ADMISSIONS STAN...</td>\n",
       "      <td>2019-12-21T17:42:19+0000</td>\n",
       "      <td>https://www.nytimes.com/2019/12/21/us/politics...</td>\n",
       "    </tr>\n",
       "    <tr>\n",
       "      <td>3</td>\n",
       "      <td>The fateful decision in 1979 to admit Mohammed...</td>\n",
       "      <td>The fateful decision in 1979 to admit Mohammed...</td>\n",
       "      <td>One late fall evening 40 years ago, a worn-out...</td>\n",
       "      <td>[{'name': 'glocations', 'value': 'Iran', 'rank...</td>\n",
       "      <td>2019-12-29T05:01:11+0000</td>\n",
       "      <td>https://www.nytimes.com/2019/12/29/world/middl...</td>\n",
       "    </tr>\n",
       "    <tr>\n",
       "      <td>4</td>\n",
       "      <td>Andrew Bailey, the head of a financial regulat...</td>\n",
       "      <td>Andrew Bailey, the head of a financial regulat...</td>\n",
       "      <td>The British government on Friday named Andrew ...</td>\n",
       "      <td>[{'name': 'persons', 'value': 'Bailey, Andrew ...</td>\n",
       "      <td>2019-12-20T08:53:38+0000</td>\n",
       "      <td>https://www.nytimes.com/2019/12/20/business/an...</td>\n",
       "    </tr>\n",
       "    <tr>\n",
       "      <td>...</td>\n",
       "      <td>...</td>\n",
       "      <td>...</td>\n",
       "      <td>...</td>\n",
       "      <td>...</td>\n",
       "      <td>...</td>\n",
       "      <td>...</td>\n",
       "    </tr>\n",
       "    <tr>\n",
       "      <td>95</td>\n",
       "      <td>Banks including Capital One, U.S. Bancorp, Bar...</td>\n",
       "      <td>Banks including Capital One, U.S. Bancorp, Bar...</td>\n",
       "      <td>Federal Reserve Board members voted on Thursda...</td>\n",
       "      <td>[{'name': 'subject', 'value': 'Banking and Fin...</td>\n",
       "      <td>2019-10-10T22:39:56+0000</td>\n",
       "      <td>https://www.nytimes.com/2019/10/10/business/ec...</td>\n",
       "    </tr>\n",
       "    <tr>\n",
       "      <td>96</td>\n",
       "      <td>Technology executives like WeWork’s Adam Neuma...</td>\n",
       "      <td>Technology executives like WeWork’s Adam Neuma...</td>\n",
       "      <td>The banking industry, which has consistently b...</td>\n",
       "      <td>[{'name': 'subject', 'value': 'Banking and Fin...</td>\n",
       "      <td>2019-10-10T15:48:21+0000</td>\n",
       "      <td>https://www.nytimes.com/2019/10/10/opinion/wew...</td>\n",
       "    </tr>\n",
       "    <tr>\n",
       "      <td>97</td>\n",
       "      <td>Mergers, acquisitions, shorter degree programs...</td>\n",
       "      <td>Mergers, acquisitions, shorter degree programs...</td>\n",
       "      <td>When Steve Thorsett crunched the numbers, thin...</td>\n",
       "      <td>[{'name': 'subject', 'value': 'Colleges and Un...</td>\n",
       "      <td>2019-10-10T09:00:20+0000</td>\n",
       "      <td>https://www.nytimes.com/2019/10/10/education/l...</td>\n",
       "    </tr>\n",
       "    <tr>\n",
       "      <td>98</td>\n",
       "      <td>The justices could take up a case on whether t...</td>\n",
       "      <td>The justices could take up a case on whether t...</td>\n",
       "      <td>The Supreme Court’s 2019-20 term started on Mo...</td>\n",
       "      <td>[{'name': 'subject', 'value': 'Law and Legisla...</td>\n",
       "      <td>2019-10-08T10:00:08+0000</td>\n",
       "      <td>https://www.nytimes.com/2019/10/08/opinion/tru...</td>\n",
       "    </tr>\n",
       "    <tr>\n",
       "      <td>99</td>\n",
       "      <td>A guilty plea and the recession dented Mr. Eps...</td>\n",
       "      <td>A guilty plea and the recession dented Mr. Eps...</td>\n",
       "      <td>Jeffrey Epstein’s biggest client had deserted ...</td>\n",
       "      <td>[{'name': 'persons', 'value': 'Epstein, Jeffre...</td>\n",
       "      <td>2019-10-03T09:00:10+0000</td>\n",
       "      <td>https://www.nytimes.com/2019/10/03/business/je...</td>\n",
       "    </tr>\n",
       "  </tbody>\n",
       "</table>\n",
       "<p>100 rows × 6 columns</p>\n",
       "</div>"
      ],
      "text/plain": [
       "                                             abstract  \\\n",
       "0   Wall Street wants you to stay ignorant. @MrsDo...   \n",
       "1   Congress could do much more to protect America...   \n",
       "2   An agreement between college counselors and th...   \n",
       "3   The fateful decision in 1979 to admit Mohammed...   \n",
       "4   Andrew Bailey, the head of a financial regulat...   \n",
       "..                                                ...   \n",
       "95  Banks including Capital One, U.S. Bancorp, Bar...   \n",
       "96  Technology executives like WeWork’s Adam Neuma...   \n",
       "97  Mergers, acquisitions, shorter degree programs...   \n",
       "98  The justices could take up a case on whether t...   \n",
       "99  A guilty plea and the recession dented Mr. Eps...   \n",
       "\n",
       "                                              snippet  \\\n",
       "0   Wall Street wants you to stay ignorant. @MrsDo...   \n",
       "1   Congress could do much more to protect America...   \n",
       "2   An agreement between college counselors and th...   \n",
       "3   The fateful decision in 1979 to admit Mohammed...   \n",
       "4   Andrew Bailey, the head of a financial regulat...   \n",
       "..                                                ...   \n",
       "95  Banks including Capital One, U.S. Bancorp, Bar...   \n",
       "96  Technology executives like WeWork’s Adam Neuma...   \n",
       "97  Mergers, acquisitions, shorter degree programs...   \n",
       "98  The justices could take up a case on whether t...   \n",
       "99  A guilty plea and the recession dented Mr. Eps...   \n",
       "\n",
       "                                       lead_paragraph  \\\n",
       "0   Haley Sacks, 28, doesn’t just want women to sa...   \n",
       "1   Congress invited predatory for-profit colleges...   \n",
       "2   WASHINGTON — The financial aid stranglehold on...   \n",
       "3   One late fall evening 40 years ago, a worn-out...   \n",
       "4   The British government on Friday named Andrew ...   \n",
       "..                                                ...   \n",
       "95  Federal Reserve Board members voted on Thursda...   \n",
       "96  The banking industry, which has consistently b...   \n",
       "97  When Steve Thorsett crunched the numbers, thin...   \n",
       "98  The Supreme Court’s 2019-20 term started on Mo...   \n",
       "99  Jeffrey Epstein’s biggest client had deserted ...   \n",
       "\n",
       "                                             keywords  \\\n",
       "0   [{'name': 'subject', 'value': 'Banking and Fin...   \n",
       "1   [{'name': 'subject', 'value': 'Veterans', 'ran...   \n",
       "2   [{'name': 'subject', 'value': 'ADMISSIONS STAN...   \n",
       "3   [{'name': 'glocations', 'value': 'Iran', 'rank...   \n",
       "4   [{'name': 'persons', 'value': 'Bailey, Andrew ...   \n",
       "..                                                ...   \n",
       "95  [{'name': 'subject', 'value': 'Banking and Fin...   \n",
       "96  [{'name': 'subject', 'value': 'Banking and Fin...   \n",
       "97  [{'name': 'subject', 'value': 'Colleges and Un...   \n",
       "98  [{'name': 'subject', 'value': 'Law and Legisla...   \n",
       "99  [{'name': 'persons', 'value': 'Epstein, Jeffre...   \n",
       "\n",
       "                        date  \\\n",
       "0   2019-12-24T16:58:34+0000   \n",
       "1   2020-01-01T00:18:54+0000   \n",
       "2   2019-12-21T17:42:19+0000   \n",
       "3   2019-12-29T05:01:11+0000   \n",
       "4   2019-12-20T08:53:38+0000   \n",
       "..                       ...   \n",
       "95  2019-10-10T22:39:56+0000   \n",
       "96  2019-10-10T15:48:21+0000   \n",
       "97  2019-10-10T09:00:20+0000   \n",
       "98  2019-10-08T10:00:08+0000   \n",
       "99  2019-10-03T09:00:10+0000   \n",
       "\n",
       "                                                  url  \n",
       "0   https://www.nytimes.com/2019/12/24/style/finan...  \n",
       "1   https://www.nytimes.com/2019/12/31/opinion/for...  \n",
       "2   https://www.nytimes.com/2019/12/21/us/politics...  \n",
       "3   https://www.nytimes.com/2019/12/29/world/middl...  \n",
       "4   https://www.nytimes.com/2019/12/20/business/an...  \n",
       "..                                                ...  \n",
       "95  https://www.nytimes.com/2019/10/10/business/ec...  \n",
       "96  https://www.nytimes.com/2019/10/10/opinion/wew...  \n",
       "97  https://www.nytimes.com/2019/10/10/education/l...  \n",
       "98  https://www.nytimes.com/2019/10/08/opinion/tru...  \n",
       "99  https://www.nytimes.com/2019/10/03/business/je...  \n",
       "\n",
       "[100 rows x 6 columns]"
      ]
     },
     "execution_count": 15,
     "metadata": {},
     "output_type": "execute_result"
    }
   ],
   "source": [
    "df_articles"
   ]
  },
  {
   "cell_type": "code",
   "execution_count": 16,
   "metadata": {},
   "outputs": [],
   "source": [
    "def get_keywords(df):\n",
    "    return df['keywords']"
   ]
  },
  {
   "cell_type": "code",
   "execution_count": 17,
   "metadata": {},
   "outputs": [
    {
     "data": {
      "text/plain": [
       "[{'name': 'subject', 'value': 'Veterans', 'rank': 1, 'major': 'N'},\n",
       " {'name': 'subject', 'value': 'For-Profit Schools', 'rank': 2, 'major': 'N'},\n",
       " {'name': 'subject',\n",
       "  'value': 'Financial Aid (Education)',\n",
       "  'rank': 3,\n",
       "  'major': 'N'},\n",
       " {'name': 'subject', 'value': 'Frauds and Swindling', 'rank': 4, 'major': 'N'},\n",
       " {'name': 'subject',\n",
       "  'value': 'Colleges and Universities',\n",
       "  'rank': 5,\n",
       "  'major': 'N'},\n",
       " {'name': 'organizations',\n",
       "  'value': 'Veterans Affairs Department',\n",
       "  'rank': 6,\n",
       "  'major': 'N'},\n",
       " {'name': 'organizations',\n",
       "  'value': 'Federal Trade Commission',\n",
       "  'rank': 7,\n",
       "  'major': 'N'},\n",
       " {'name': 'organizations',\n",
       "  'value': 'University of Phoenix',\n",
       "  'rank': 8,\n",
       "  'major': 'N'},\n",
       " {'name': 'organizations',\n",
       "  'value': 'Career Education Corporation',\n",
       "  'rank': 9,\n",
       "  'major': 'N'}]"
      ]
     },
     "execution_count": 17,
     "metadata": {},
     "output_type": "execute_result"
    }
   ],
   "source": [
    "get_keywords(df_articles)[1]"
   ]
  },
  {
   "cell_type": "code",
   "execution_count": null,
   "metadata": {},
   "outputs": [],
   "source": []
  }
 ],
 "metadata": {
  "kernelspec": {
   "display_name": "Python 3",
   "language": "python",
   "name": "python3"
  },
  "language_info": {
   "codemirror_mode": {
    "name": "ipython",
    "version": 3
   },
   "file_extension": ".py",
   "mimetype": "text/x-python",
   "name": "python",
   "nbconvert_exporter": "python",
   "pygments_lexer": "ipython3",
   "version": "3.7.4"
  }
 },
 "nbformat": 4,
 "nbformat_minor": 2
}
