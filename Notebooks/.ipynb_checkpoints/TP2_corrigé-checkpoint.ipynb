{
 "cells": [
  {
   "cell_type": "markdown",
   "metadata": {},
   "source": [
    "# TP#2 : LSA et word2vec"
   ]
  },
  {
   "cell_type": "markdown",
   "metadata": {},
   "source": [
    "\n",
    "## Approche du TP\n",
    "\n",
    "Nous allons explorer les différents types de représentations distribuées vu au second cours, en commençant par un exemple simple d'application de la LSA. On l'appliquera ensuite à d'autres données.\n",
    "\n",
    "Dans un second temps, on chargera un modèle word2vec pré-entraîné et on pourra le manipuler."
   ]
  },
  {
   "cell_type": "markdown",
   "metadata": {},
   "source": [
    "# Première partie : Latent Semantic Analysis"
   ]
  },
  {
   "cell_type": "markdown",
   "metadata": {},
   "source": [
    "## Reprise de l'exemple du cours sur les titres de livres"
   ]
  },
  {
   "cell_type": "markdown",
   "metadata": {},
   "source": [
    "Pendant le second cours, on avait vu sur un dataset très simple comment on pouvait utiliser la LSA pour projeter à la fois des mots et des documents dans le même espace.\n",
    "\n",
    "On reprend ici les mêmes données pour voir en détails l'utilisation de la LSA."
   ]
  },
  {
   "cell_type": "code",
   "execution_count": 1,
   "metadata": {
    "collapsed": true
   },
   "outputs": [],
   "source": [
    "titles = [ \n",
    "    \"The Neatest Little Guide to Stock Market Investing\", \n",
    "    \"Investing For Dummies, 4th Edition\", \n",
    "    \"The Little Book of Common Sense Investing: The Only Way to Guarantee Your Fair Share of Stock Market Returns\", \n",
    "    \"The Little Book of Value Investing\", \n",
    "    \"Value Investing: From Graham to Buffett and Beyond\", \n",
    "    \"Rich Dad's Guide to Investing: What the Rich Invest in, That the Poor and the Middle Class Do Not!\", \n",
    "    \"Investing in Real Estate, 5th Edition\", \n",
    "    \"Stock Investing For Dummies\", \n",
    "    \"Rich Dad's Advisors: The ABC's of Real Estate Investing: The Secrets of Finding Hidden Profits Most Investors Miss\" \n",
    "]\n",
    "\n",
    "stopwords = ['and','edition','for','in','little','of','the','to'] \n",
    "ignorechars = [\",\", \":\", \"'\", \"!\"]"
   ]
  },
  {
   "cell_type": "markdown",
   "metadata": {},
   "source": [
    "Le traitement des documents va inclure les étapes suivantes :\n",
    "* tokenisation sur les espaces\n",
    "* suppression de toute la ponctuation\n",
    "* suppression des tokens qui ne sont pas exclusivement constitués de lettres\n",
    "* suppression des stopwords avec la liste fournie ci-dessus\n",
    "* vectorisation\n",
    "* (optionnel) suppression des hapaxes\n",
    "* (optionnel) transformation TF.IDF (en utilisant la classe [TfidfTransformer](http://scikit-learn.org/stable/modules/generated/sklearn.feature_extraction.text.TfidfTransformer.html) de `sklearn`)\n",
    "\n",
    "A vous de vous inspirer du premier TP et d'implémenter :\n",
    "* une fonction `parse()` qui va prendre en argument un document, et renvoyer un dictionnaire `{mot: compte}` en ayant effectué les opérations de nettoyage nécessaires\n",
    "* une fonction `vectorize()` qui va prendre en argument une liste de dictionnaire `{mot: compte}` et renvoyer la matrice correspondante, ainsi que le nom des colonnes"
   ]
  },
  {
   "cell_type": "code",
   "execution_count": 2,
   "metadata": {
    "collapsed": true
   },
   "outputs": [],
   "source": [
    "from collections import Counter\n",
    "import re\n",
    "from sklearn.feature_extraction import DictVectorizer\n",
    "from sklearn.feature_extraction.text import TfidfTransformer"
   ]
  },
  {
   "cell_type": "code",
   "execution_count": 3,
   "metadata": {
    "collapsed": true
   },
   "outputs": [],
   "source": [
    "# Votre implémentation ici :\n",
    "def parse(document):\n",
    "    # Tokenisation\n",
    "    tokens = document.split()\n",
    "    # Normalisation (ponctuation + tokens non alphabétiques + stopwords)\n",
    "    tokens = [re.sub(\"\\W\", \"\", token.lower()) for token in tokens]\n",
    "    tokens = [token for token in tokens\\\n",
    "              if token.isalpha() and token not in stopwords]\n",
    "    \n",
    "    return Counter(tokens)"
   ]
  },
  {
   "cell_type": "code",
   "execution_count": 4,
   "metadata": {
    "collapsed": true
   },
   "outputs": [],
   "source": [
    "parsed_documents = [parse(doc) for doc in titles]"
   ]
  },
  {
   "cell_type": "code",
   "execution_count": 5,
   "metadata": {
    "collapsed": true
   },
   "outputs": [],
   "source": [
    "# Vectorisation\n",
    "vectorizer = DictVectorizer()\n",
    "X = vectorizer.fit_transform(parsed_documents)\n",
    "keeping = (X.sum(axis=0) > 1).A.ravel()\n",
    "X = X[:, keeping]\n",
    "kept_features = [f_name\\\n",
    "                 for f_name, keep in\\\n",
    "                     zip(vectorizer.feature_names_, keeping)\\\n",
    "                 if keep]"
   ]
  },
  {
   "cell_type": "code",
   "execution_count": 6,
   "metadata": {},
   "outputs": [
    {
     "data": {
      "text/plain": [
       "((9, 11),\n",
       " ['book',\n",
       "  'dads',\n",
       "  'dummies',\n",
       "  'estate',\n",
       "  'guide',\n",
       "  'investing',\n",
       "  'market',\n",
       "  'real',\n",
       "  'rich',\n",
       "  'stock',\n",
       "  'value'])"
      ]
     },
     "execution_count": 6,
     "metadata": {},
     "output_type": "execute_result"
    }
   ],
   "source": [
    "X.shape, kept_features"
   ]
  },
  {
   "cell_type": "code",
   "execution_count": 7,
   "metadata": {
    "collapsed": true
   },
   "outputs": [],
   "source": [
    "X = TfidfTransformer().fit_transform(X)"
   ]
  },
  {
   "cell_type": "code",
   "execution_count": 8,
   "metadata": {},
   "outputs": [
    {
     "data": {
      "text/plain": [
       "matrix([[ 0.        ,  0.        ,  0.        ,  0.        ,  0.58105689,\n",
       "          0.26364068,  0.58105689,  0.        ,  0.        ,  0.5052122 ,\n",
       "          0.        ],\n",
       "        [ 0.        ,  0.        ,  0.91064735,  0.        ,  0.        ,\n",
       "          0.41318448,  0.        ,  0.        ,  0.        ,  0.        ,\n",
       "          0.        ],\n",
       "        [ 0.58105689,  0.        ,  0.        ,  0.        ,  0.        ,\n",
       "          0.26364068,  0.58105689,  0.        ,  0.        ,  0.5052122 ,\n",
       "          0.        ],\n",
       "        [ 0.67330261,  0.        ,  0.        ,  0.        ,  0.        ,\n",
       "          0.30549497,  0.        ,  0.        ,  0.        ,  0.        ,\n",
       "          0.67330261],\n",
       "        [ 0.        ,  0.        ,  0.        ,  0.        ,  0.        ,\n",
       "          0.41318448,  0.        ,  0.        ,  0.        ,  0.        ,\n",
       "          0.91064735],\n",
       "        [ 0.        ,  0.40141977,  0.        ,  0.        ,  0.40141977,\n",
       "          0.18213463,  0.        ,  0.        ,  0.80283953,  0.        ,\n",
       "          0.        ],\n",
       "        [ 0.        ,  0.        ,  0.        ,  0.67330261,  0.        ,\n",
       "          0.30549497,  0.        ,  0.67330261,  0.        ,  0.        ,\n",
       "          0.        ],\n",
       "        [ 0.        ,  0.        ,  0.71394932,  0.        ,  0.        ,\n",
       "          0.32393745,  0.        ,  0.        ,  0.        ,  0.62075833,\n",
       "          0.        ],\n",
       "        [ 0.        ,  0.48760956,  0.        ,  0.48760956,  0.        ,\n",
       "          0.22124119,  0.        ,  0.48760956,  0.48760956,  0.        ,\n",
       "          0.        ]])"
      ]
     },
     "execution_count": 8,
     "metadata": {},
     "output_type": "execute_result"
    }
   ],
   "source": [
    "X.todense()"
   ]
  },
  {
   "cell_type": "markdown",
   "metadata": {},
   "source": [
    "Vous devriez avoir obtenu une matrice de dimensions (9 x 11).\n",
    "\n",
    "Nous allons utiliser dans un premier temps l'implémentation de `scipy` pour le calcul de la SVD.\n",
    "\n",
    "On récupère ainsi les trois matrice $U$, $\\Sigma$ et $V$ ($V$ étant sous sa forme transposée $V^\\top$) comme vu en cours.\n",
    "\n",
    "![](./SVD_decomposition.png)"
   ]
  },
  {
   "cell_type": "code",
   "execution_count": 9,
   "metadata": {
    "collapsed": true
   },
   "outputs": [],
   "source": [
    "from scipy.linalg import svd\n",
    "\n",
    "U, Σ, Vt = svd(X.toarray())"
   ]
  },
  {
   "cell_type": "markdown",
   "metadata": {},
   "source": [
    "On peut interprêter U comme étant la matrice qui permet de projeter les documents et $V^\\top$ comme celle qui permet de projeter les mots.\n",
    "\n",
    "On va donc essayer de visualiser les titres et les mots du vocabulaire dans un espace 2 x 2 en utilisant uniquement deux dimensions.\n",
    "\n",
    "Comme vu en cours, la première dimension n'est pas très intéressante car elle encode la moyenne des documents, on va donc utiliser les deux suivantes (indices de 1 à 3)."
   ]
  },
  {
   "cell_type": "code",
   "execution_count": 10,
   "metadata": {
    "collapsed": true
   },
   "outputs": [],
   "source": [
    "import matplotlib.pyplot as plt\n",
    "\n",
    "%matplotlib inline"
   ]
  },
  {
   "cell_type": "code",
   "execution_count": 11,
   "metadata": {},
   "outputs": [
    {
     "data": {
      "image/png": "[encoded data removed]",
      "text/plain": [
       "<matplotlib.figure.Figure at 0x10df6e278>"
      ]
     },
     "metadata": {},
     "output_type": "display_data"
    }
   ],
   "source": [
    "fig, ax = plt.subplots()\n",
    "fig.set_size_inches(12, 8)\n",
    "\n",
    "x_doc, y_doc = U[:,1:3].T\n",
    "ax.scatter(x_doc, y_doc, label=\"Titles\")\n",
    "for x_, y_, s in zip(x_doc, y_doc, [\"T%d\" % (i + 1) for i in range(len(x_doc))]):\n",
    "    if s == \"T7\":\n",
    "        ax.text(x_ + 0.01, y_ + 0.02, s, fontsize=15)\n",
    "    else:\n",
    "        ax.text(x_ + 0.01, y_, s, fontsize=14)\n",
    "\n",
    "x_term, y_term = Vt[1:3,]\n",
    "ax.scatter(x_term, y_term, label=\"Words\")\n",
    "for x_, y_, s in zip(x_term, y_term, kept_features):\n",
    "    if s == \"real\":\n",
    "        ax.text(x_ - 0.06, y_ - 0.02, s, fontsize=15)\n",
    "    elif s == \"estate\":\n",
    "        ax.text(x_ + 0.01, y_ - 0.01, s, fontsize=15)\n",
    "    else:\n",
    "        ax.text(x_ + 0.01, y_ - 0.02, s, fontsize=15)\n",
    "\n",
    "ax.grid()\n",
    "ax.set_xlim(right=0.4)\n",
    "ax.legend(fontsize=15, loc=2)\n",
    "ax.set_xlabel(\"Dimension 2\")\n",
    "ax.set_ylabel(\"Dimension 3\")\n",
    "ax.set_title(\"Visualisation dans l'espace projeté\");"
   ]
  },
  {
   "cell_type": "markdown",
   "metadata": {},
   "source": [
    "On retrouve à peu près le graphe vu en cours, à une symétrie centrale près, c'est-à-dire que nos axes verticaux et horizontaux peuvent être inversés.\n",
    "\n",
    "C'est la conséquence de l'algorithme utilisé, qui peut renvoyer les résultats avec un signe différent selon un état interne d'initialisation (voir la section \"Notes\" de la [documentation de cette classe dans scikit-learn](https://scikit-learn.org/stable/modules/generated/sklearn.decomposition.TruncatedSVD.html))."
   ]
  },
  {
   "cell_type": "markdown",
   "metadata": {},
   "source": [
    "La matrice $V$ (soit $(V^\\top)^\\top$) contient le codage des concepts, qu'on peut afficher comme suit :"
   ]
  },
  {
   "cell_type": "code",
   "execution_count": 12,
   "metadata": {
    "collapsed": true
   },
   "outputs": [],
   "source": [
    "import numpy as np"
   ]
  },
  {
   "cell_type": "code",
   "execution_count": 13,
   "metadata": {},
   "outputs": [
    {
     "name": "stdout",
     "output_type": "stream",
     "text": [
      "- 0.75 * investing + 0.32 * dummies + 0.30 * real + 0.28 * book - 0.22 * market + ...\n",
      "- 0.71 * rich - 0.35 * dads - 0.32 * real + 0.31 * stock + 0.27 * guide + ...\n",
      "- 0.61 * estate - 0.48 * dummies + 0.37 * book - 0.31 * stock + 0.23 * dads + ...\n",
      "- 0.72 * value - 0.47 * dads - 0.44 * guide + 0.19 * book - 0.11 * estate + ...\n",
      "+ 0.53 * real - 0.46 * market + 0.42 * investing + 0.36 * estate - 0.27 * rich + ...\n"
     ]
    }
   ],
   "source": [
    "for idx_concept in range(5):\n",
    "    print(\" \".join([\"%s %.2f * %s\" % (\"+\" if coeff >= 0 else \"-\",\n",
    "                                      np.fabs(coeff), mot)\\\n",
    "                    for coeff, mot in sorted(zip(Vt.T[idx_concept],\n",
    "                                                 kept_features),\n",
    "                                             key=lambda x: np.fabs(x[0]),\n",
    "                                             reverse=True)[:5]]) +\\\n",
    "          \" + ...\")"
   ]
  },
  {
   "cell_type": "markdown",
   "metadata": {},
   "source": [
    "Bonus : représentation graphique des topics ci-dessous :"
   ]
  },
  {
   "cell_type": "code",
   "execution_count": 14,
   "metadata": {},
   "outputs": [
    {
     "data": {
      "image/png": "[encoded data removed]",
      "text/plain": [
       "<matplotlib.figure.Figure at 0x10e2b7d68>"
      ]
     },
     "metadata": {},
     "output_type": "display_data"
    }
   ],
   "source": [
    "nb_concepts = 5\n",
    "\n",
    "fig, ax = plt.subplots(nrows=nb_concepts)\n",
    "fig.set_size_inches(8, 5 * nb_concepts)\n",
    "\n",
    "for idx_concept in range(nb_concepts):\n",
    "    widths, labels = zip(*sorted(zip(Vt.T[idx_concept], kept_features), key=lambda x: np.fabs(x[0])))\n",
    "    ax[idx_concept].barh(range(len(labels)),\n",
    "                         width=widths,\n",
    "                         color=[\"r\" if elem < 0 else \"b\" for elem in widths], alpha=0.5)\n",
    "\n",
    "    ax[idx_concept].set_xlim(-1, 1)\n",
    "\n",
    "    for i, label in enumerate(labels):\n",
    "        ax[idx_concept].text(1, i, s=label, ha=\"right\")\n",
    "    ax[idx_concept].set_frame_on(False)\n",
    "    ax[idx_concept].set_yticks([])\n",
    "    ax[idx_concept].set_yticklabels([])\n",
    "    ax[idx_concept].get_xaxis().set_visible(True)"
   ]
  },
  {
   "cell_type": "markdown",
   "metadata": {},
   "source": [
    "## Application avec le corpus AG news et scikit-learn\n",
    "\n",
    "Il s'agit d'un corpus d'articles de presse constitué dans le cadre académique par Antonio Gulli, de l'Université de Pise. Il contient plus d'un million d'articles provenant de 2000 sources (plus de détails [sur cette page archivée](https://web.archive.org/web/20181130103633/https://www.di.unipi.it/~gulli/AG_corpus_of_news_articles.html)).\n",
    "\n",
    "Nous allons utiliser une version simplifiée d'un peu moins de 130 000 articles, répartis sur quatre classes, utilisée dans un article de [Zhang, Zhao & LeCun (2015)](https://arxiv.org/abs/1509.01626) pour une tâche de classification utilisant des réseaux de neurones convolutionnels.\n",
    "\n",
    "Voici les étapes à suivre :\n",
    "1. télécharger les données [ici](https://github.com/mhjabreel/CharCNN/tree/23f896ea0af57668c7090c3b0950c1dd0d44bbe9/data/ag_news_csv)\n",
    "2. regarder le contenu des fichiers avec `head` et compter le nombre d'exemples dans les ensembles d'apprentissage et de test"
   ]
  },
  {
   "cell_type": "code",
   "execution_count": 16,
   "metadata": {},
   "outputs": [
    {
     "name": "stdout",
     "output_type": "stream",
     "text": [
      "\"3\",\"Fears for T N pension after talks\",\"Unions representing workers at Turner   Newall say they are 'disappointed' after talks with stricken parent firm Federal Mogul.\"\r\n",
      "\"4\",\"The Race is On: Second Private Team Sets Launch Date for Human Spaceflight (SPACE.com)\",\"SPACE.com - TORONTO, Canada -- A second\\team of rocketeers competing for the  #36;10 million Ansari X Prize, a contest for\\privately funded suborbital space flight, has officially announced the first\\launch date for its manned rocket.\"\r\n",
      "\"4\",\"Ky. Company Wins Grant to Study Peptides (AP)\",\"AP - A company founded by a chemistry researcher at the University of Louisville won a grant to develop a method of producing better peptides, which are short chains of amino acids, the building blocks of proteins.\"\r\n"
     ]
    }
   ],
   "source": [
    "!head -n 3 test.csv"
   ]
  },
  {
   "cell_type": "markdown",
   "metadata": {},
   "source": [
    "Les fichiers sont au format CSV avec trois colonnes correspondant à la classe, au titre et au contenu de l'article.\n",
    "\n",
    "On veut récupérer les données de la manière suivante :\n",
    "1. parser le fichier `test.csv` et extraire :\n",
    "  * dans une liste `documents` le contenu textuel concaténé de chaque article (titre + contenu)\n",
    "  * dans une liste `y` la classe de chaque article (encodé par un nombre)\n",
    "2. récupérer le label de chaque classe dans le fichier `classes.txt` et modifier `y` pour avoir une liste de labels\n",
    "3. vectoriser les documents dans une matrice `X`\n",
    "4. modifier `X` pour ne garder que les features qui apparaîssent au moins 3 fois dans le corpus"
   ]
  },
  {
   "cell_type": "markdown",
   "metadata": {},
   "source": [
    "### Parsing des fichiers"
   ]
  },
  {
   "cell_type": "code",
   "execution_count": 17,
   "metadata": {
    "collapsed": true
   },
   "outputs": [],
   "source": [
    "import pandas as pd"
   ]
  },
  {
   "cell_type": "code",
   "execution_count": 18,
   "metadata": {
    "collapsed": true
   },
   "outputs": [],
   "source": [
    "df = pd.read_csv(\"test.csv\", names=[\"class\", \"title\", \"content\"])"
   ]
  },
  {
   "cell_type": "code",
   "execution_count": 19,
   "metadata": {},
   "outputs": [
    {
     "data": {
      "text/html": [
       "<div>\n",
       "<style>\n",
       "    .dataframe thead tr:only-child th {\n",
       "        text-align: right;\n",
       "    }\n",
       "\n",
       "    .dataframe thead th {\n",
       "        text-align: left;\n",
       "    }\n",
       "\n",
       "    .dataframe tbody tr th {\n",
       "        vertical-align: top;\n",
       "    }\n",
       "</style>\n",
       "<table border=\"1\" class=\"dataframe\">\n",
       "  <thead>\n",
       "    <tr style=\"text-align: right;\">\n",
       "      <th></th>\n",
       "      <th>class</th>\n",
       "      <th>title</th>\n",
       "      <th>content</th>\n",
       "    </tr>\n",
       "  </thead>\n",
       "  <tbody>\n",
       "    <tr>\n",
       "      <th>0</th>\n",
       "      <td>3</td>\n",
       "      <td>Fears for T N pension after talks</td>\n",
       "      <td>Unions representing workers at Turner   Newall...</td>\n",
       "    </tr>\n",
       "    <tr>\n",
       "      <th>1</th>\n",
       "      <td>4</td>\n",
       "      <td>The Race is On: Second Private Team Sets Launc...</td>\n",
       "      <td>SPACE.com - TORONTO, Canada -- A second\\team o...</td>\n",
       "    </tr>\n",
       "    <tr>\n",
       "      <th>2</th>\n",
       "      <td>4</td>\n",
       "      <td>Ky. Company Wins Grant to Study Peptides (AP)</td>\n",
       "      <td>AP - A company founded by a chemistry research...</td>\n",
       "    </tr>\n",
       "    <tr>\n",
       "      <th>3</th>\n",
       "      <td>4</td>\n",
       "      <td>Prediction Unit Helps Forecast Wildfires (AP)</td>\n",
       "      <td>AP - It's barely dawn when Mike Fitzpatrick st...</td>\n",
       "    </tr>\n",
       "    <tr>\n",
       "      <th>4</th>\n",
       "      <td>4</td>\n",
       "      <td>Calif. Aims to Limit Farm-Related Smog (AP)</td>\n",
       "      <td>AP - Southern California's smog-fighting agenc...</td>\n",
       "    </tr>\n",
       "  </tbody>\n",
       "</table>\n",
       "</div>"
      ],
      "text/plain": [
       "   class                                              title  \\\n",
       "0      3                  Fears for T N pension after talks   \n",
       "1      4  The Race is On: Second Private Team Sets Launc...   \n",
       "2      4      Ky. Company Wins Grant to Study Peptides (AP)   \n",
       "3      4      Prediction Unit Helps Forecast Wildfires (AP)   \n",
       "4      4        Calif. Aims to Limit Farm-Related Smog (AP)   \n",
       "\n",
       "                                             content  \n",
       "0  Unions representing workers at Turner   Newall...  \n",
       "1  SPACE.com - TORONTO, Canada -- A second\\team o...  \n",
       "2  AP - A company founded by a chemistry research...  \n",
       "3  AP - It's barely dawn when Mike Fitzpatrick st...  \n",
       "4  AP - Southern California's smog-fighting agenc...  "
      ]
     },
     "execution_count": 19,
     "metadata": {},
     "output_type": "execute_result"
    }
   ],
   "source": [
    "df.head()"
   ]
  },
  {
   "cell_type": "code",
   "execution_count": 21,
   "metadata": {},
   "outputs": [],
   "source": [
    "with open(\"classes.txt\") as f:\n",
    "    mapping = {(i + 1): c.strip() for i,c in enumerate(f)}"
   ]
  },
  {
   "cell_type": "code",
   "execution_count": 22,
   "metadata": {},
   "outputs": [
    {
     "data": {
      "text/plain": [
       "{1: 'World', 2: 'Sports', 3: 'Business', 4: 'Sci/Tech'}"
      ]
     },
     "execution_count": 22,
     "metadata": {},
     "output_type": "execute_result"
    }
   ],
   "source": [
    "mapping"
   ]
  },
  {
   "cell_type": "code",
   "execution_count": 23,
   "metadata": {
    "collapsed": true
   },
   "outputs": [],
   "source": [
    "df[\"class\"] = df[\"class\"].apply(lambda x: mapping[x])"
   ]
  },
  {
   "cell_type": "code",
   "execution_count": 24,
   "metadata": {},
   "outputs": [
    {
     "data": {
      "text/html": [
       "<div>\n",
       "<style>\n",
       "    .dataframe thead tr:only-child th {\n",
       "        text-align: right;\n",
       "    }\n",
       "\n",
       "    .dataframe thead th {\n",
       "        text-align: left;\n",
       "    }\n",
       "\n",
       "    .dataframe tbody tr th {\n",
       "        vertical-align: top;\n",
       "    }\n",
       "</style>\n",
       "<table border=\"1\" class=\"dataframe\">\n",
       "  <thead>\n",
       "    <tr style=\"text-align: right;\">\n",
       "      <th></th>\n",
       "      <th>class</th>\n",
       "      <th>title</th>\n",
       "      <th>content</th>\n",
       "    </tr>\n",
       "  </thead>\n",
       "  <tbody>\n",
       "    <tr>\n",
       "      <th>0</th>\n",
       "      <td>Business</td>\n",
       "      <td>Fears for T N pension after talks</td>\n",
       "      <td>Unions representing workers at Turner   Newall...</td>\n",
       "    </tr>\n",
       "    <tr>\n",
       "      <th>1</th>\n",
       "      <td>Sci/Tech</td>\n",
       "      <td>The Race is On: Second Private Team Sets Launc...</td>\n",
       "      <td>SPACE.com - TORONTO, Canada -- A second\\team o...</td>\n",
       "    </tr>\n",
       "    <tr>\n",
       "      <th>2</th>\n",
       "      <td>Sci/Tech</td>\n",
       "      <td>Ky. Company Wins Grant to Study Peptides (AP)</td>\n",
       "      <td>AP - A company founded by a chemistry research...</td>\n",
       "    </tr>\n",
       "    <tr>\n",
       "      <th>3</th>\n",
       "      <td>Sci/Tech</td>\n",
       "      <td>Prediction Unit Helps Forecast Wildfires (AP)</td>\n",
       "      <td>AP - It's barely dawn when Mike Fitzpatrick st...</td>\n",
       "    </tr>\n",
       "    <tr>\n",
       "      <th>4</th>\n",
       "      <td>Sci/Tech</td>\n",
       "      <td>Calif. Aims to Limit Farm-Related Smog (AP)</td>\n",
       "      <td>AP - Southern California's smog-fighting agenc...</td>\n",
       "    </tr>\n",
       "  </tbody>\n",
       "</table>\n",
       "</div>"
      ],
      "text/plain": [
       "      class                                              title  \\\n",
       "0  Business                  Fears for T N pension after talks   \n",
       "1  Sci/Tech  The Race is On: Second Private Team Sets Launc...   \n",
       "2  Sci/Tech      Ky. Company Wins Grant to Study Peptides (AP)   \n",
       "3  Sci/Tech      Prediction Unit Helps Forecast Wildfires (AP)   \n",
       "4  Sci/Tech        Calif. Aims to Limit Farm-Related Smog (AP)   \n",
       "\n",
       "                                             content  \n",
       "0  Unions representing workers at Turner   Newall...  \n",
       "1  SPACE.com - TORONTO, Canada -- A second\\team o...  \n",
       "2  AP - A company founded by a chemistry research...  \n",
       "3  AP - It's barely dawn when Mike Fitzpatrick st...  \n",
       "4  AP - Southern California's smog-fighting agenc...  "
      ]
     },
     "execution_count": 24,
     "metadata": {},
     "output_type": "execute_result"
    }
   ],
   "source": [
    "df.head()"
   ]
  },
  {
   "cell_type": "code",
   "execution_count": 25,
   "metadata": {
    "collapsed": true
   },
   "outputs": [],
   "source": [
    "y = df[\"class\"].tolist()\n",
    "documents = (df[\"title\"] + \" \" + df[\"content\"]).tolist()"
   ]
  },
  {
   "cell_type": "markdown",
   "metadata": {},
   "source": [
    "### Vectorisation\n",
    "\n",
    "On pourra utiliser les stopwords anglais de NLTK. Pour cela :\n",
    "* importer le corpus des stopwords en faisant `from nltk.corpus import stopwords`\n",
    "* si NLTK n'est pas installé, faites-le avec `pip` ; il vous faudra ensuite exécuter, dans un interpréteur python utilisant le même `virtualenv`, la commande `nltk.download()`, et télécharger le corpus `stopwords`.\n",
    "* récupérer dans une liste les stopwords anglais en faisant `stopwords = stopwords.words(\"english\")`"
   ]
  },
  {
   "cell_type": "code",
   "execution_count": 34,
   "metadata": {},
   "outputs": [],
   "source": [
    "from nltk.corpus import stopwords\n",
    "from tqdm import tqdm_notebook as tqdm\n",
    "\n",
    "EN_stopwords = stopwords.words(\"english\")"
   ]
  },
  {
   "cell_type": "code",
   "execution_count": 30,
   "metadata": {},
   "outputs": [
    {
     "data": {
      "text/plain": [
       "(['i', 'me', 'my', 'myself', 'we'], 127)"
      ]
     },
     "execution_count": 30,
     "metadata": {},
     "output_type": "execute_result"
    }
   ],
   "source": [
    "EN_stopwords[:5], len(EN_stopwords)"
   ]
  },
  {
   "cell_type": "code",
   "execution_count": 31,
   "metadata": {
    "collapsed": true
   },
   "outputs": [],
   "source": [
    "def parse(document, stopwords=EN_stopwords):\n",
    "    # Tokenisation\n",
    "    tokens = document.split()\n",
    "    # Normalisation (ponctuation + tokens non alphabétiques + stopwords)\n",
    "    tokens = [re.sub(\"\\W\", \"\", token.lower()) for token in tokens]\n",
    "    tokens = [token for token in tokens\\\n",
    "              if token.isalpha() and token not in stopwords]\n",
    "    \n",
    "    return Counter(tokens)"
   ]
  },
  {
   "cell_type": "code",
   "execution_count": 35,
   "metadata": {},
   "outputs": [
    {
     "data": {
      "application/vnd.jupyter.widget-view+json": {
       "model_id": "7c15d439ef2d4b338399c293b18d1da3"
      }
     },
     "metadata": {},
     "output_type": "display_data"
    },
    {
     "name": "stdout",
     "output_type": "stream",
     "text": [
      "\n"
     ]
    }
   ],
   "source": [
    "parsed_documents = [parse(doc) for doc in tqdm(documents)]"
   ]
  },
  {
   "cell_type": "code",
   "execution_count": 36,
   "metadata": {
    "collapsed": true
   },
   "outputs": [],
   "source": [
    "# Vectorisation\n",
    "vectorizer = DictVectorizer()\n",
    "X = vectorizer.fit_transform(parsed_documents)\n",
    "keeping = (X.sum(axis=0) > 3).A.ravel()\n",
    "X = X[:, keeping]\n",
    "kept_features = [f_name\\\n",
    "                 for f_name, keep in\\\n",
    "                     zip(vectorizer.feature_names_, keeping)\\\n",
    "                 if keep]"
   ]
  },
  {
   "cell_type": "code",
   "execution_count": 37,
   "metadata": {},
   "outputs": [
    {
     "data": {
      "text/plain": [
       "((7600, 7404), 7404)"
      ]
     },
     "execution_count": 37,
     "metadata": {},
     "output_type": "execute_result"
    }
   ],
   "source": [
    "X.shape, len(kept_features)"
   ]
  },
  {
   "cell_type": "code",
   "execution_count": 38,
   "metadata": {},
   "outputs": [
    {
     "data": {
      "text/plain": [
       "Counter({'Business': 1900, 'Sci/Tech': 1900, 'Sports': 1900, 'World': 1900})"
      ]
     },
     "execution_count": 38,
     "metadata": {},
     "output_type": "execute_result"
    }
   ],
   "source": [
    "Counter(y)"
   ]
  },
  {
   "cell_type": "markdown",
   "metadata": {},
   "source": [
    "### Utilisation de scikit-learn\n",
    "\n",
    "On va utiliser la classe [TruncatedSVD](http://scikit-learn.org/stable/modules/generated/sklearn.decomposition.TruncatedSVD.html#sklearn.decomposition.TruncatedSVD) de scikit-learn, qui fait le calcul de SVD de manière plus rapide.\n",
    "\n",
    "Il suffit de d'initialiser une instance de la classe et d'appeler la méthode `.fit_transform()` avec notre matrice X en argument."
   ]
  },
  {
   "cell_type": "code",
   "execution_count": 39,
   "metadata": {
    "collapsed": true
   },
   "outputs": [],
   "source": [
    "from sklearn.decomposition import TruncatedSVD"
   ]
  },
  {
   "cell_type": "code",
   "execution_count": 40,
   "metadata": {
    "collapsed": true
   },
   "outputs": [],
   "source": [
    "svd_transformer = TruncatedSVD(n_components=200)\n",
    "Xk = svd_transformer.fit_transform(X)"
   ]
  },
  {
   "cell_type": "markdown",
   "metadata": {},
   "source": [
    "Comparer la dimension des matrices X et Xk et commenter."
   ]
  },
  {
   "cell_type": "code",
   "execution_count": 41,
   "metadata": {},
   "outputs": [
    {
     "data": {
      "text/plain": [
       "(7600, 200)"
      ]
     },
     "execution_count": 41,
     "metadata": {},
     "output_type": "execute_result"
    }
   ],
   "source": [
    "Xk.shape"
   ]
  },
  {
   "cell_type": "markdown",
   "metadata": {},
   "source": [
    "`TruncatedSVD` ne renvoit donc qu'une seule matrice $X_k$ au lieu de trois matrices $U_k$, $\\Sigma_k$ et $V_k^\\top$. Ce n'est pas grave car ce qui nous intéresse dans un pipeline de traitement est bien la matrice $X_k$.\n",
    "\n",
    "De plus, on peut passer d'une formulation à l'autre puisque :\n",
    "* $X_k = U_k \\Sigma_k$\n",
    "* les valeurs de la diagonale de $\\Sigma_k$ sont stockées dans le membre `singular_values_` de `TruncatedSVD`\n",
    "* la matrice $V_k^\\top$ est stockée dans le membre `components_` de `TruncatedSVD`\n",
    "\n",
    "Cette différence d'implémentation et d'utilisation est expliquée en détails dans la [documentation de scikit-learn](http://scikit-learn.org/stable/modules/decomposition.html#lsa)."
   ]
  },
  {
   "cell_type": "markdown",
   "metadata": {},
   "source": [
    "### Classification\n",
    "\n",
    "On peut maintenant brancher notre pipeline à un classifieur, comme dans le premier TP.\n",
    "\n",
    "Reprendre la fonction `classify_and_evaluate()` et l'appliquer à `X` et `y` ci-dessous."
   ]
  },
  {
   "cell_type": "code",
   "execution_count": 42,
   "metadata": {
    "collapsed": true
   },
   "outputs": [],
   "source": [
    "from sklearn.naive_bayes import MultinomialNB\n",
    "from sklearn.model_selection import cross_val_predict\n",
    "from sklearn.metrics import classification_report\n",
    "\n",
    "def classify_and_evaluate(X, y):\n",
    "    cls = MultinomialNB()\n",
    "    predictions = cross_val_predict(cls, X, y)\n",
    "    print(\"Nombre d'erreurs :\", len([(truth, prediction)\\\n",
    "                                     for truth, prediction in zip(y, predictions)\\\n",
    "                                     if truth != prediction]), end=\"\\n\\n\")\n",
    "    print(classification_report(y, predictions))"
   ]
  },
  {
   "cell_type": "code",
   "execution_count": 43,
   "metadata": {},
   "outputs": [
    {
     "name": "stdout",
     "output_type": "stream",
     "text": [
      "Nombre d'erreurs : 957\n",
      "\n",
      "             precision    recall  f1-score   support\n",
      "\n",
      "   Business       0.84      0.83      0.83      1900\n",
      "   Sci/Tech       0.85      0.82      0.84      1900\n",
      "     Sports       0.92      0.96      0.94      1900\n",
      "      World       0.88      0.88      0.88      1900\n",
      "\n",
      "avg / total       0.87      0.87      0.87      7600\n",
      "\n"
     ]
    }
   ],
   "source": [
    "classify_and_evaluate(X, y)"
   ]
  },
  {
   "cell_type": "markdown",
   "metadata": {},
   "source": [
    "Il n'est pas possible d'utiliser directement la fonction `classify_and_evaluate` car elle utilise un classifieur bayésien multinomial ([MultinomalNB](https://scikit-learn.org/stable/modules/naive_bayes.html#multinomial-naive-bayes)) qui suppose que les données d'entrée sont issues de comptage (donc, entiers naturels).\n",
    "\n",
    "On a vu que l'application sur des données réelles positives (ce qu'on récupère en sortie de la transformation TD.IDF) ne pose pas de problème.\n",
    "\n",
    "Cependant, après la projection, on a maintenant des nombres négatifs dans la matrice. On peut tenter de translater les données en ajoutant à la matrice un scalaire pour que tous les coefficients soient réels positifs. Mais le taux d'erreur bondit, et on se sait pas vriament si cela est dû à la translation ou à la projection. Il faudrait donc modifier la fonction pour utiliser un autre modèle simple (linéaire par exemple)."
   ]
  },
  {
   "cell_type": "code",
   "execution_count": 44,
   "metadata": {},
   "outputs": [
    {
     "name": "stdout",
     "output_type": "stream",
     "text": [
      "Nombre d'erreurs : 1729\n",
      "\n",
      "             precision    recall  f1-score   support\n",
      "\n",
      "   Business       0.78      0.68      0.72      1900\n",
      "   Sci/Tech       0.70      0.75      0.72      1900\n",
      "     Sports       0.78      0.91      0.84      1900\n",
      "      World       0.85      0.76      0.80      1900\n",
      "\n",
      "avg / total       0.78      0.77      0.77      7600\n",
      "\n"
     ]
    }
   ],
   "source": [
    "classify_and_evaluate(Xk - Xk.min(), y)"
   ]
  },
  {
   "cell_type": "code",
   "execution_count": 48,
   "metadata": {},
   "outputs": [
    {
     "data": {
      "image/png": "[encoded data removed]",
      "text/plain": [
       "<matplotlib.figure.Figure at 0x113444e10>"
      ]
     },
     "metadata": {},
     "output_type": "display_data"
    }
   ],
   "source": [
    "plt.hist(Xk.flatten(), bins=20, log=True);"
   ]
  },
  {
   "cell_type": "markdown",
   "metadata": {},
   "source": [
    "### Visualisation des mots les plus importants\n",
    "\n",
    "On va visualiser en deux dimensions les 50 mots les plus importants, ainsi que 50 articles tirés au hasard pour les classes `\"Sports\"` et `\"Sci/Tech\"`.\n",
    "\n",
    "Pour cela, exécuter les cellules ci-dessous."
   ]
  },
  {
   "cell_type": "code",
   "execution_count": 49,
   "metadata": {
    "collapsed": true
   },
   "outputs": [],
   "source": [
    "# Filtrage des mots peu présents, récupération de ces mots dans une liste\n",
    "X = vectorizer.fit_transform(map(parse, documents))\n",
    "keeping = (X.sum(axis=0) > 3).A.ravel()\n",
    "X = X[:,keeping]\n",
    "kept_features = [f_name for f_name, keep in zip(vectorizer.feature_names_, keeping) if keep]"
   ]
  },
  {
   "cell_type": "code",
   "execution_count": 50,
   "metadata": {
    "collapsed": true
   },
   "outputs": [],
   "source": [
    "# Normalisation TF.IDF\n",
    "X = TfidfTransformer(norm=False).fit_transform(X)"
   ]
  },
  {
   "cell_type": "code",
   "execution_count": 51,
   "metadata": {
    "collapsed": true
   },
   "outputs": [],
   "source": [
    "# On filtre sur les classes qui nous intéressent\n",
    "kept_rows = [i for i, elem in enumerate(y) if elem in [\"Sci/Tech\", \"Sports\"]]\n",
    "y = [y[i] for i in kept_rows]\n",
    "X = X[kept_rows]"
   ]
  },
  {
   "cell_type": "code",
   "execution_count": 52,
   "metadata": {
    "collapsed": true
   },
   "outputs": [],
   "source": [
    "# Calcul des mots les plus représentés\n",
    "best_words_idx = np.argsort(X.sum(axis=0).A.ravel())[-50:]\n",
    "best_words = [kept_features[i] for i in best_words_idx]"
   ]
  },
  {
   "cell_type": "code",
   "execution_count": 53,
   "metadata": {
    "collapsed": true
   },
   "outputs": [],
   "source": [
    "# Transformation LSA\n",
    "svd_transformer = TruncatedSVD(n_components=200)\n",
    "Xk = svd_transformer.fit_transform(X)"
   ]
  },
  {
   "cell_type": "code",
   "execution_count": 54,
   "metadata": {},
   "outputs": [
    {
     "data": {
      "image/png": "[encoded data removed]",
      "text/plain": [
       "<matplotlib.figure.Figure at 0x113782a58>"
      ]
     },
     "metadata": {},
     "output_type": "display_data"
    }
   ],
   "source": [
    "# Visualisation\n",
    "fig, ax = plt.subplots()\n",
    "fig.set_size_inches(15, 12)\n",
    "\n",
    "# On sélectionne 50 articles au hasard\n",
    "import random\n",
    "random_lines = random.sample(range(X.shape[0]), 50)\n",
    "\n",
    "# Scaling inverse : Xk = Uk Σk, et on veut récupérer Uk = Xk Σk^-1\n",
    "x_doc, y_doc = (Xk[:,1:3] * (1. / svd_transformer.singular_values_[1:3]))[random_lines].T\n",
    "labels_selected_articles = [y[i] for i in random_lines]\n",
    "\n",
    "for topic in set(labels_selected_articles):\n",
    "    x_doc_ = [x_doc[i] for i, e in enumerate(labels_selected_articles) if e == topic]\n",
    "    y_doc_ = [y_doc[i] for i, e in enumerate(labels_selected_articles) if e == topic]\n",
    "    ax.scatter(x_doc_, y_doc_, alpha=0.5,\n",
    "               label=\"Articles topic \" + topic)\n",
    "\n",
    "ax.set_ylim(top=0.1, bottom=-0.15)\n",
    "ax.set_xlim(right=0.2, left=-0.2)\n",
    "\n",
    "x_term, y_term = svd_transformer.components_[1:3,best_words_idx]\n",
    "ax.scatter(x_term, y_term, c=\"g\", alpha=0.5, label=\"Words\")\n",
    "for x_, y_, s in zip(x_term, y_term, best_words):\n",
    "    if x_ >= ax.get_xlim()[0] and x_ <= ax.get_xlim()[1] and y_ >= ax.get_ylim()[0] and y_ <= ax.get_ylim()[1]:\n",
    "        ax.text(x_ + 0.002, y_ - 0.002, s, fontsize=12)\n",
    "\n",
    "ax.grid()\n",
    "ax.legend(fontsize=15, loc=0)\n",
    "ax.set_xlabel(\"Dimension 2\")\n",
    "ax.set_ylabel(\"Dimension 3\")\n",
    "ax.set_title(\"Visualisation dans l'espace projeté\");"
   ]
  },
  {
   "cell_type": "markdown",
   "metadata": {},
   "source": [
    "# Deuxième partie : word2vec\n",
    "\n",
    "On va utiliser un modèle pré-entraîné sur un dump de Wikipedia :\n",
    "1. Commencer par télécharger les données de [ce lien](https://ibm.ent.box.com/s/77etivy69jmga0x0u6vs2n47ul8baks4).\n",
    "2. Décompresser le fichier (`tar -xvfz /chemin/vers/votre/dossier/apnews_sg.tgz`)\n",
    "3. Installer gensim (`pip3 install imutils --user`)\n",
    "4. Charger le modèle."
   ]
  },
  {
   "cell_type": "code",
   "execution_count": 395,
   "metadata": {
    "collapsed": true
   },
   "outputs": [],
   "source": [
    "from gensim.models.word2vec import Word2Vec\n",
    "\n",
    "model = Word2Vec.load(\"word2vec.bin\")"
   ]
  },
  {
   "cell_type": "markdown",
   "metadata": {},
   "source": [
    "On obtient une représentation dense de chaque mot."
   ]
  },
  {
   "cell_type": "code",
   "execution_count": 400,
   "metadata": {
    "scrolled": true
   },
   "outputs": [
    {
     "data": {
      "text/plain": [
       "array([  4.27164972e-01,   5.73221892e-02,   6.15567043e-02,\n",
       "         9.54020619e-02,   1.82786472e-02,  -1.46983370e-01,\n",
       "         7.13451132e-02,   6.06862940e-02,  -8.39615762e-02,\n",
       "        -1.53227329e-01,   4.43859462e-04,  -2.30238095e-01,\n",
       "        -1.63750932e-01,  -7.88985044e-02,  -2.19980270e-01,\n",
       "        -1.10849805e-01,  -3.16224456e-01,   4.73360568e-02,\n",
       "        -1.36688143e-01,  -8.47528279e-02,   4.17414382e-02,\n",
       "        -2.37944260e-01,  -8.70545283e-02,  -1.48416489e-01,\n",
       "        -1.77778006e-01,  -6.55186623e-02,  -2.81852245e-01,\n",
       "        -2.74993867e-01,  -8.86562616e-02,   9.41087212e-03,\n",
       "         6.84729740e-02,  -1.02155343e-01,  -4.34809029e-02,\n",
       "         1.09360971e-01,   2.75213152e-01,   1.47406206e-01,\n",
       "         7.28204325e-02,   3.23610157e-02,   4.89586502e-01,\n",
       "         1.12016559e-01,  -1.97800457e-01,   4.54594083e-02,\n",
       "         5.05269766e-02,   1.43815288e-02,   2.31974587e-01,\n",
       "         4.53264602e-02,  -1.64787903e-01,   1.11527778e-01,\n",
       "         1.40989259e-01,  -1.53619364e-01,   1.47233874e-01,\n",
       "        -1.28524601e-01,   2.60341875e-02,   9.74874645e-02,\n",
       "         4.23873868e-03,  -1.07624270e-01,   1.06584772e-01,\n",
       "         3.35359084e-03,  -3.00049245e-01,   2.33593091e-01,\n",
       "        -6.52639493e-02,  -1.47511080e-01,   4.98417690e-02,\n",
       "        -1.30651549e-01,  -1.50233179e-01,  -2.57014036e-01,\n",
       "        -1.58821587e-02,   7.19775483e-02,  -1.38204843e-01,\n",
       "        -1.46211907e-01,  -3.27892780e-01,   2.75716305e-01,\n",
       "        -1.52491823e-01,  -4.12179567e-02,   2.32725829e-01,\n",
       "        -2.41551355e-01,   1.06280640e-01,   8.27443749e-02,\n",
       "        -1.85432240e-01,   1.16536386e-01,   2.79678226e-01,\n",
       "        -4.51077521e-02,  -1.64891377e-01,  -1.74079493e-01,\n",
       "        -3.07216239e-03,  -5.71444519e-02,   6.43087626e-02,\n",
       "         7.64348954e-02,   4.69745338e-01,  -2.50494897e-01,\n",
       "         1.46444604e-01,   2.64988467e-03,  -1.26532003e-01,\n",
       "         2.49871582e-01,   4.68826741e-02,   3.19874257e-01,\n",
       "         4.97006476e-02,  -2.61382103e-01,   4.89815697e-02,\n",
       "         8.64695311e-02,   4.14520472e-01,  -1.69356629e-01,\n",
       "         8.93197730e-02,   9.95015427e-02,  -1.24806061e-01,\n",
       "         3.97186913e-02,  -1.62570417e-01,   2.10888073e-01,\n",
       "        -9.10278484e-02,   1.10888340e-01,  -2.06644498e-02,\n",
       "        -6.73645735e-02,   1.53455973e-01,  -2.53231198e-01,\n",
       "        -2.85561383e-02,   7.56803006e-02,   1.84815571e-01,\n",
       "         9.71229672e-02,   1.53322846e-01,   1.55379653e-01,\n",
       "         1.30408317e-01,  -1.32318795e-01,   6.66763559e-02,\n",
       "        -1.38654679e-01,   5.56395240e-02,   1.17330007e-01,\n",
       "        -8.38601962e-02,  -1.48798421e-01,  -1.52436450e-01,\n",
       "         9.02312323e-02,  -1.82768628e-01,  -3.22378486e-01,\n",
       "         3.97838429e-02,  -9.87916142e-02,   2.89884895e-01,\n",
       "        -1.35879710e-01,   3.12051587e-02,   1.66031808e-01,\n",
       "        -3.57788295e-01,   2.43389696e-01,   1.27446562e-01,\n",
       "         1.98519882e-02,  -2.40686089e-02,   8.13124105e-02,\n",
       "        -3.39858644e-02,  -1.97414696e-01,   1.10957185e-02,\n",
       "         7.67673999e-02,   6.82190806e-02,  -1.35200201e-02,\n",
       "         6.38432875e-02,  -2.99316555e-01,   3.38388532e-02,\n",
       "        -7.81502128e-02,   6.28179908e-02,   8.66038203e-02,\n",
       "         1.80840448e-01,   1.49724916e-01,   2.43158862e-01,\n",
       "         1.19676553e-02,  -5.97718582e-02,   1.66426495e-01,\n",
       "        -1.71326503e-01,   4.23935391e-02,   1.26215771e-01,\n",
       "         2.81723738e-01,   7.27373436e-02,   8.08010921e-02,\n",
       "        -1.68064401e-01,   2.84524590e-01,  -3.80645782e-01,\n",
       "         1.80811390e-01,   1.28450841e-01,  -2.38313526e-02,\n",
       "        -5.99370971e-02,  -1.69772625e-01,  -2.12584704e-01,\n",
       "         3.08737189e-01,  -3.49337995e-01,  -7.05239996e-02,\n",
       "        -1.29147559e-01,  -2.18136221e-01,   2.24767514e-02,\n",
       "        -1.14209294e-01,   1.78996980e-01,  -1.76275671e-01,\n",
       "         8.19790736e-03,   2.51687169e-01,   8.92369673e-02,\n",
       "        -2.40989570e-02,   7.27185681e-02,   1.89904254e-02,\n",
       "        -9.15990397e-02,   2.71253824e-01,  -2.29353413e-01,\n",
       "        -2.17561051e-01,  -1.72683284e-01,  -2.38040999e-01,\n",
       "         7.96422437e-02,   1.15542300e-01,   3.65478337e-01,\n",
       "        -1.98226459e-02,   1.36775404e-01,  -7.03564212e-02,\n",
       "         3.42510305e-02,  -1.22423626e-01,  -1.69905275e-01,\n",
       "         7.10020587e-02,  -3.80710453e-01,   1.49054108e-02,\n",
       "         2.71857958e-02,  -9.17801857e-02,   4.60883509e-03,\n",
       "        -2.33091731e-02,  -3.09676696e-02,   4.76326227e-01,\n",
       "        -1.18554719e-01,   1.13160774e-01,  -3.29252601e-01,\n",
       "         8.69848505e-02,  -1.16257772e-01,  -2.12181449e-01,\n",
       "         4.38766330e-01,  -2.77908564e-01,   2.77529091e-01,\n",
       "        -4.23656479e-02,  -9.06059444e-02,   1.00608356e-02,\n",
       "         5.66284359e-03,   6.26715124e-02,   2.89687544e-01,\n",
       "        -5.08948900e-02,   5.98819926e-02,  -1.14349417e-01,\n",
       "        -7.87470713e-02,  -1.32735923e-01,  -1.51087329e-01,\n",
       "        -1.42996475e-01,   7.19805211e-02,   3.08509022e-02,\n",
       "         1.08403459e-01,  -8.75767469e-02,   1.19479977e-01,\n",
       "         7.95276985e-02,  -2.60471731e-01,  -4.56268713e-03,\n",
       "        -1.81850210e-01,  -2.33671188e-01,  -2.92823672e-01,\n",
       "        -2.25352541e-01,   3.21999043e-01,   7.49774128e-02,\n",
       "        -1.34837359e-01,   7.30496794e-02,  -2.15504855e-01,\n",
       "        -1.04478359e-01,   3.41849066e-02,  -3.58586520e-01,\n",
       "         1.44850574e-02,   3.04097738e-02,   3.07105184e-01,\n",
       "         7.45716617e-02,  -5.99257089e-02,   8.69186297e-02,\n",
       "        -4.73436974e-02,   7.41403773e-02,   1.91248447e-01,\n",
       "        -8.85807909e-03,   2.18407035e-01,  -3.29214782e-02,\n",
       "        -3.73938113e-01,   1.72289327e-01,   1.70256086e-02,\n",
       "         1.40165031e-01,  -1.08277477e-01,  -1.24866970e-01,\n",
       "         1.51278928e-01,   2.31396869e-01,  -3.08245085e-02,\n",
       "        -2.41669670e-01,   2.23280907e-01,   2.30868869e-02,\n",
       "        -1.83745340e-01,   4.63485777e-01,   1.26625404e-01,\n",
       "         1.06166899e-02,   3.87144238e-02,  -6.30182996e-02,\n",
       "        -1.01268686e-01,   2.89677173e-01,  -2.93039411e-01,\n",
       "        -1.87975377e-01,  -1.29259415e-02,   2.72160351e-01,\n",
       "        -4.67133671e-02,   1.15300648e-01,   2.02681690e-01,\n",
       "         1.33623555e-01,  -2.50677288e-01,   1.46420181e-01], dtype=float32)"
      ]
     },
     "execution_count": 400,
     "metadata": {},
     "output_type": "execute_result"
    }
   ],
   "source": [
    "model[\"man\"]"
   ]
  },
  {
   "cell_type": "markdown",
   "metadata": {},
   "source": [
    "Examiner cette représentation pour voir déterminer la dimension de l'espace."
   ]
  },
  {
   "cell_type": "code",
   "execution_count": null,
   "metadata": {
    "collapsed": true
   },
   "outputs": [],
   "source": [
    "# Votre code"
   ]
  },
  {
   "cell_type": "markdown",
   "metadata": {},
   "source": [
    "On peut maintenant reproduire des exemples \"d'algèbre sur les mots\" : il faut indiquer les mots positifs et négatifs.\n",
    "\n",
    "Essayez quelques exemples. Les résultats sont-ils les mêmes que ceux vus en cours ? Si non, pourquoi ?"
   ]
  },
  {
   "cell_type": "code",
   "execution_count": 403,
   "metadata": {},
   "outputs": [
    {
     "data": {
      "text/plain": [
       "[('daughter', 0.8421739935874939),\n",
       " ('mother', 0.8219133615493774),\n",
       " ('son', 0.810417652130127),\n",
       " ('husband', 0.787006676197052),\n",
       " ('wife', 0.7490294575691223),\n",
       " ('grandmother', 0.7245616316795349),\n",
       " ('her', 0.7234212160110474),\n",
       " ('brother', 0.7050184607505798),\n",
       " ('sister', 0.7016417384147644),\n",
       " ('aunt', 0.6941377520561218)]"
      ]
     },
     "execution_count": 403,
     "metadata": {},
     "output_type": "execute_result"
    }
   ],
   "source": [
    "model.most_similar(positive=['girl', 'father'], negative=['boy'])"
   ]
  },
  {
   "cell_type": "markdown",
   "metadata": {},
   "source": [
    "## Classification du corpus AG News\n",
    "\n",
    "Il faut repartir de la matrice simple de TF, et remplacer chaque mot par le vecteur correspondant ; le document est donc la moyenne des mots, chaque mot étant pondéré par sa fréquence d'apparition."
   ]
  },
  {
   "cell_type": "markdown",
   "metadata": {},
   "source": [
    "Première étape, on reconstruit la matrice de fréquences."
   ]
  },
  {
   "cell_type": "code",
   "execution_count": 553,
   "metadata": {
    "collapsed": true
   },
   "outputs": [],
   "source": [
    "# On reconstruit la matrice Filtrage des mots peu présents, récupération de ces mots dans une liste\n",
    "X = vectorizer.fit_transform(map(parse, documents))\n",
    "keeping = (X.sum(axis=0) > 3).A.ravel()\n",
    "X = X[:,keeping]\n",
    "kept_features = [f_name for f_name, keep in zip(vectorizer.feature_names_, keeping) if keep]"
   ]
  },
  {
   "cell_type": "markdown",
   "metadata": {},
   "source": [
    "On ne garde que les classes `\"Sports\"` et `\"Sci/Tech\"`."
   ]
  },
  {
   "cell_type": "code",
   "execution_count": 557,
   "metadata": {
    "collapsed": true
   },
   "outputs": [],
   "source": [
    "kept_rows = [i for i, elem in enumerate(y) if elem in [\"Sci/Tech\", \"Sports\"]]\n",
    "y_binary = [y[i] for i in kept_rows]\n",
    "X_binary = X[kept_rows]"
   ]
  },
  {
   "cell_type": "markdown",
   "metadata": {},
   "source": [
    "Et voilà l'étape de construction de la matrice de documents.\n",
    "\n",
    "Examiner le code en essayant de comprendre chaque ligne et en expliquant en commentaires les grandes étapes."
   ]
  },
  {
   "cell_type": "code",
   "execution_count": 558,
   "metadata": {
    "collapsed": true
   },
   "outputs": [],
   "source": [
    "embedded_docs = []\n",
    "for row in X_binary:\n",
    "    words_idx = row.nonzero()[1]\n",
    "    if not words_idx.shape[0]:\n",
    "        embedded_docs.append(np.zeros(300))\n",
    "        continue\n",
    "    counts = row[0,words_idx].A.ravel()\n",
    "    words = [kept_features[i] for i in words_idx]\n",
    "    embedded_words = []\n",
    "    for count, word in zip(counts, words):\n",
    "        try:\n",
    "            embedded_words.append(model[word] * count)\n",
    "        except KeyError:\n",
    "            embedded_words.append(np.zeros(300))\n",
    "    doc = np.array(embedded_words).sum(axis=0)\n",
    "    embedded_docs.append(np.array(embedded_words).mean(axis=0))\n",
    "embedded_docs = np.array(embedded_docs)"
   ]
  },
  {
   "cell_type": "markdown",
   "metadata": {},
   "source": [
    "Quelle est la dimension de `embedded_docs` ?"
   ]
  },
  {
   "cell_type": "code",
   "execution_count": 562,
   "metadata": {
    "collapsed": true
   },
   "outputs": [],
   "source": [
    "# Votre code"
   ]
  },
  {
   "cell_type": "markdown",
   "metadata": {},
   "source": [
    "Utiliser la fonction `classify_and_evaluate()` sur la matrice de TF et sur la matrice projetée.\n",
    "\n",
    "Commenter."
   ]
  },
  {
   "cell_type": "code",
   "execution_count": null,
   "metadata": {
    "collapsed": true
   },
   "outputs": [],
   "source": []
  },
  {
   "cell_type": "code",
   "execution_count": null,
   "metadata": {
    "collapsed": true
   },
   "outputs": [],
   "source": []
  }
 ],
 "metadata": {
  "kernelspec": {
   "display_name": "Python 3",
   "language": "python",
   "name": "python3"
  },
  "language_info": {
   "codemirror_mode": {
    "name": "ipython",
    "version": 3
   },
   "file_extension": ".py",
   "mimetype": "text/x-python",
   "name": "python",
   "nbconvert_exporter": "python",
   "pygments_lexer": "ipython3",
   "version": "3.7.4"
  },
  "toc": {
   "nav_menu": {},
   "number_sections": true,
   "sideBar": true,
   "skip_h1_title": false,
   "title_cell": "Table of Contents",
   "title_sidebar": "Contents",
   "toc_cell": false,
   "toc_position": {},
   "toc_section_display": true,
   "toc_window_display": false
  }
 },
 "nbformat": 4,
 "nbformat_minor": 2
}
